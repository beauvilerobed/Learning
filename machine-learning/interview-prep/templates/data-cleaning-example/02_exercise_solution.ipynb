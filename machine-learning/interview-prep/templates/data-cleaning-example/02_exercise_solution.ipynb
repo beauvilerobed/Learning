{
 "cells": [
  {
   "cell_type": "markdown",
   "id": "4cf7f1fb",
   "metadata": {
    "editable": true
   },
   "source": [
    "# Exercise: Data Cleansing and Feature Engineering\n",
    "\n",
    "In this exercise, we'll be loading in a dataset that has some problems. In order for us to get it ready for our models, we will apply some of the technics we learned.\n",
    "\n",
    "Apply these changes to the `data.csv` dataset.\n",
    "1. Load `data.csv` into a dataframe.\n",
    "2. Output the table info to see if there are any null values.\n",
    "3. Remove all null values from the dataframe.\n",
    "4. Change the `date` column from an object to a `datetime64[ns]` type.\n",
    "5. Change the `weather` column to a category type.\n",
    "6. One hot encode the `date` column to year, month, and day.\n",
    "7. Normalized the columns from the `all_features` list so each feature has a zero mean.\n",
    "8. Create and save the cleaned dataframe, as well as the train/validation/test dataframes to CSV."
   ]
  },
  {
   "cell_type": "code",
   "execution_count": null,
   "id": "d3d93fa8",
   "metadata": {
    "editable": true
   },
   "outputs": [],
   "source": [
    "from datetime import datetime\n",
    "import pandas as pd\n",
    "import numpy as np\n",
    "\n",
    "from sklearn.datasets import make_regression\n",
    "from sklearn.model_selection import train_test_split\n",
    "from sklearn.preprocessing import StandardScaler"
   ]
  },
  {
   "cell_type": "code",
   "execution_count": null,
   "id": "ce90dd5d",
   "metadata": {
    "editable": true
   },
   "outputs": [],
   "source": [
    "# Reading the dataset created by 02_exercise_dataset_creation.ipynb\n"
   ]
  },
  {
   "cell_type": "code",
   "execution_count": null,
   "id": "2220a2f2",
   "metadata": {
    "editable": true
   },
   "outputs": [],
   "source": [
    "# Always good to check to see if the data looks right\n"
   ]
  },
  {
   "cell_type": "code",
   "execution_count": null,
   "id": "a8710906",
   "metadata": {
    "editable": true
   },
   "outputs": [],
   "source": [
    "# Output general info about the table, notice we have some null values in all of our features\n"
   ]
  },
  {
   "cell_type": "code",
   "execution_count": null,
   "id": "6e9187b9",
   "metadata": {
    "editable": true
   },
   "outputs": [],
   "source": [
    "# Drop all null values\n"
   ]
  },
  {
   "cell_type": "code",
   "execution_count": null,
   "id": "da8a0d40",
   "metadata": {
    "editable": true
   },
   "outputs": [],
   "source": [
    "# Change the date column to a datetime\n",
    "# Change weather column to a category \n"
   ]
  },
  {
   "cell_type": "code",
   "execution_count": null,
   "id": "23f33329",
   "metadata": {
    "editable": true
   },
   "outputs": [],
   "source": [
    "# Extract year, month, and day into separate columns\n"
   ]
  },
  {
   "cell_type": "code",
   "execution_count": null,
   "id": "181a5bbd",
   "metadata": {
    "editable": true
   },
   "outputs": [],
   "source": [
    "# One hot encode the weather category to have individual features. Prefix with `weather`\n"
   ]
  },
  {
   "cell_type": "code",
   "execution_count": null,
   "id": "837f7acf",
   "metadata": {
    "editable": true
   },
   "outputs": [],
   "source": [
    "# Add the one hot encoded values back to the df\n"
   ]
  },
  {
   "cell_type": "code",
   "execution_count": null,
   "id": "935b74ea",
   "metadata": {
    "editable": true
   },
   "outputs": [],
   "source": [
    "# Verify now that are table info has no nulls and correct Dtypes\n"
   ]
  },
  {
   "cell_type": "code",
   "execution_count": null,
   "id": "265efd58",
   "metadata": {
    "editable": true
   },
   "outputs": [],
   "source": [
    "# These may change if you decided to call your columns different from above\n"
   ]
  },
  {
   "cell_type": "code",
   "execution_count": null,
   "id": "f4d0dbae",
   "metadata": {
    "editable": true
   },
   "outputs": [],
   "source": [
    "# Table summary, notice the mean to many of our tables are not zero.\n"
   ]
  },
  {
   "cell_type": "code",
   "execution_count": null,
   "id": "4678faae",
   "metadata": {
    "editable": true
   },
   "outputs": [],
   "source": [
    "# Standarize feature values to have a zero mean\n"
   ]
  },
  {
   "cell_type": "code",
   "execution_count": null,
   "id": "a13bda68",
   "metadata": {
    "editable": true
   },
   "outputs": [],
   "source": [
    "# Verify our features we are using now all have zero mean\n"
   ]
  },
  {
   "cell_type": "code",
   "execution_count": null,
   "id": "89a8f8fa",
   "metadata": {
    "editable": true
   },
   "outputs": [],
   "source": [
    "# train: 0.8 | test: 0.2\n",
    "\n",
    "# train: 0.6 | validation: 0.2\n",
    "\n",
    "# Final dataset sizes: train: 0.6, validation: 0.2, text: 0.2,"
   ]
  },
  {
   "cell_type": "code",
   "execution_count": null,
   "id": "ad581723",
   "metadata": {
    "editable": true
   },
   "outputs": [],
   "source": [
    "# Output each shape to confirm the size of train/validation/test\n"
   ]
  },
  {
   "cell_type": "code",
   "execution_count": null,
   "id": "e4a25b98",
   "metadata": {
    "editable": true
   },
   "outputs": [],
   "source": [
    "# Save all clean data, and the train, validation, test data as csv\n"
   ]
  },
  {
   "cell_type": "code",
   "execution_count": null,
   "id": "7a49a926",
   "metadata": {
    "editable": true
   },
   "outputs": [],
   "source": []
  }
 ],
 "metadata": {
  "kernelspec": {
   "display_name": "Python 3",
   "language": "python",
   "name": "python3"
  },
  "language_info": {
   "codemirror_mode": {
    "name": "ipython",
    "version": 3
   },
   "file_extension": ".py",
   "mimetype": "text/x-python",
   "name": "python",
   "nbconvert_exporter": "python",
   "pygments_lexer": "ipython3",
   "version": "3.6.3"
  }
 },
 "nbformat": 4,
 "nbformat_minor": 5
}
